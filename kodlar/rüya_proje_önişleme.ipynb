{
 "cells": [
  {
   "cell_type": "code",
   "execution_count": 20,
   "id": "6ad7c344",
   "metadata": {},
   "outputs": [
    {
     "name": "stdout",
     "output_type": "stream",
     "text": [
      "Requirement already satisfied: Counter in c:\\users\\muham\\anaconda3\\lib\\site-packages (1.0.0)\n"
     ]
    }
   ],
   "source": [
    "!pip install Counter"
   ]
  },
  {
   "cell_type": "code",
   "execution_count": 28,
   "id": "6783b434",
   "metadata": {},
   "outputs": [
    {
     "name": "stdout",
     "output_type": "stream",
     "text": [
      "[('bir', 8516), ('olarak', 2769), ('olan', 1680), ('s', 908), ('rüya', 820), ('olduğu', 754), ('kendi', 692), ('ancak', 680), ('sonra', 660), ('kadar', 657), ('zaman', 652), ('göre', 633), ('yer', 621), ('ortaya', 619), ('yeni', 606), ('içinde', 581), ('olduğunu', 565), ('aynı', 524), ('onun', 514), ('önemli', 511), ('ilk', 505), ('oyunculuk', 500), ('tarafından', 495), ('iki', 467), ('büyük', 453)]\n"
     ]
    }
   ],
   "source": [
    "from collections import Counter\n",
    "\n",
    "\n",
    "with open(r\"C:\\Users\\muham\\Desktop\\rüya\\ruyaislenmisveriyeni.txt\", 'r', encoding='utf-8') as dosya:\n",
    "    metin = dosya.read() \n",
    "\n",
    "\n",
    "kelimeler = metin.split() \n",
    "\n",
    "\n",
    "kelime_sayilari = Counter(kelimeler)\n",
    "\n",
    "\n",
    "en_fazla_gecen_25 = kelime_sayilari.most_common(25)\n",
    "\n",
    "print(en_fazla_gecen_25)"
   ]
  },
  {
   "cell_type": "code",
   "execution_count": 29,
   "id": "2f25f19f",
   "metadata": {},
   "outputs": [
    {
     "name": "stdout",
     "output_type": "stream",
     "text": [
      "Word2Vec modeli başarıyla eğitildi ve kaydedildi.\n"
     ]
    }
   ],
   "source": [
    "from gensim.models import Word2Vec\n",
    "import os\n",
    "\n",
    "\n",
    "dosya_yolu = r\"C:\\Users\\muham\\Desktop\\rüya\\ruyaislenmisveriyeni.txt\"\n",
    "\n",
    "\n",
    "if os.path.exists(dosya_yolu):\n",
    "    with open(dosya_yolu, 'r', encoding='utf-8') as dosya:\n",
    "        metin = dosya.read().lower()  \n",
    "        \n",
    "    \n",
    "    kelime_listesi = metin.split()  \n",
    "    \n",
    "   \n",
    "    model = Word2Vec(sentences=[kelime_listesi], vector_size=100, window=5, min_count=1, workers=4)\n",
    "    \n",
    "  \n",
    "    model.save(\"egitilmis_word2vec_model\")\n",
    "    \n",
    "    print(\"Word2Vec modeli başarıyla eğitildi ve kaydedildi.\")\n",
    "else:\n",
    "    print(\"Dosya bulunamadı.\")"
   ]
  },
  {
   "cell_type": "code",
   "execution_count": 30,
   "id": "cd29889d",
   "metadata": {},
   "outputs": [
    {
     "name": "stdout",
     "output_type": "stream",
     "text": [
      "olan: ['26864', '31287', '32014', 'süreli', '18109']\n",
      "bir: ['hunlarda', 'kaçtı', 'devletletirilmesiyle', '12937', 'tembellik']\n",
      "olarak: ['sırtında', 'rüyametinden', 'gidiatına', 'koyar', '12255']\n",
      "rüya: ['8999', 'planlama', 'zebrayı', 'çalmış', 'körüklediği']\n",
      "olduğu: ['aristandrosun', '15641', '6899', '30579', 'kir']\n",
      "kendi: ['ışıklara', 'yanıtlanabilir', 'diyalogların', '24796', 'robertson']\n",
      "ancak: ['kapısının', '11808', 'kalanı', '28128', '28587']\n",
      "sonra: ['birleştirilmiş', '14250', 'kabustan', '21001', 'klariosa']\n",
      "kadar: ['neresi', 'bulunmasına', '1126', 'istekler', '25342']\n",
      "zaman: ['adalete', 'abartıya', '10100', '22789', '5725']\n",
      "göre: ['yayılış', 'grebeneli', '31727', '23095', 'bendaga']\n",
      "yer: ['ilemlerini', 'göstermekten', '13279', '14465', '26611']\n",
      "ortaya: ['15766', 'gerekliliklerini', 'diyalogları', 'donatılmış', 'önbayrak']\n",
      "yeni: ['fleming', 'airlerinin', 'röportajı', 'hanioğlunun', 'he']\n",
      "içinde: ['tutma', 'hatırlarlar', 'gelirler', '943', '1328']\n",
      "olduğunu: ['12802', 'görebilmekteyiz', '28977', 'tutumları', '14054']\n",
      "aynı: ['13272', '18120', 'hutbenin', '28054', 'seyirciyinin']\n",
      "onun: ['terakkinin', 'sarpedonia', '1973', 'sciens', 'do']\n",
      "önemli: ['dönüşümlerinin', 'berbat', '30318', '29887', '24861']\n",
      "ilk: ['28275', 'iraka', '1033', '1389', '32376']\n"
     ]
    }
   ],
   "source": [
    "from gensim.models import Word2Vec\n",
    "\n",
    "\n",
    "model = Word2Vec.load(\"egitilmis_word2vec_model\") \n",
    "\n",
    "\n",
    "kelimeler = [\"olan\", \"bir\", \"olarak\",\"rüya\",\"olduğu\",\"kendi\",\"ancak\",\"sonra\",\"kadar\",\"zaman\",\"göre\",\"yer\",\"ortaya\",\"yeni\",\"içinde\",\"olduğunu\",\"aynı\",\"onun\",\"önemli\",\"ilk\"]  # Analiz yapmak istediğiniz kelimeler\n",
    "benzer_kelimeler = {}\n",
    "\n",
    "for kelime in kelimeler:\n",
    "    benzer_kelimeler[kelime] = [kel for kel, _ in model.wv.most_similar(kelime, topn=5)]\n",
    "\n",
    "\n",
    "for kelime, benzerler in benzer_kelimeler.items():\n",
    "    print(f\"{kelime}: {benzerler}\")"
   ]
  },
  {
   "cell_type": "code",
   "execution_count": 31,
   "id": "ec1fb393",
   "metadata": {},
   "outputs": [
    {
     "name": "stdout",
     "output_type": "stream",
     "text": [
      "Doc2Vec modeli başarıyla eğitildi ve kaydedildi.\n"
     ]
    }
   ],
   "source": [
    "from gensim.models.doc2vec import Doc2Vec, TaggedDocument\n",
    "from nltk.tokenize import word_tokenize\n",
    "\n",
    "\n",
    "dosya_yolu = r\"C:\\Users\\muham\\Desktop\\rüya\\ruyaislenmisveriyeni.txt\"\n",
    "\n",
    "\n",
    "if os.path.exists(dosya_yolu):\n",
    "    with open(dosya_yolu, 'r', encoding='utf-8') as dosya:\n",
    "        metin = dosya.readlines()  \n",
    "    \n",
    "  \n",
    "    cumle_listesi = [cumle.strip() for cumle in metin if cumle.strip()] \n",
    "\n",
    "   \n",
    "    token_cumleler = [word_tokenize(cumle.lower()) for cumle in cumle_listesi]\n",
    "\n",
    "  \n",
    "    tagged_cumleler = [TaggedDocument(words=cumle, tags=[str(i)]) for i, cumle in enumerate(token_cumleler)]\n",
    "\n",
    "   \n",
    "    model = Doc2Vec(vector_size=100, window=5, min_count=1, workers=4, epochs=20)\n",
    "    model.build_vocab(tagged_cumleler)\n",
    "    model.train(tagged_cumleler, total_examples=model.corpus_count, epochs=model.epochs)\n",
    "\n",
    "  \n",
    "    model.save(\"egitilmis_doc2vec_model\")\n",
    "\n",
    "    print(\"Doc2Vec modeli başarıyla eğitildi ve kaydedildi.\")\n",
    "else:\n",
    "    print(\"Dosya bulunamadı.\")"
   ]
  },
  {
   "cell_type": "code",
   "execution_count": 32,
   "id": "7245b18e",
   "metadata": {},
   "outputs": [
    {
     "name": "stdout",
     "output_type": "stream",
     "text": [
      "1. cümleye benzer cümleler:\n",
      "- 28025\n",
      "- 7\n",
      "- 12349\n",
      "- 4445\n",
      "- 18136\n",
      "- 14647\n",
      "\n",
      "2. cümleye benzer cümleler:\n",
      "- 26918\n",
      "- 12349\n",
      "- 18136\n",
      "- 14673\n",
      "- 15063\n",
      "- 29629\n",
      "\n",
      "3. cümleye benzer cümleler:\n",
      "- 28091\n",
      "- 44\n",
      "- 28104\n",
      "- 2348\n",
      "- 2412\n",
      "- 30558\n",
      "\n",
      "4. cümleye benzer cümleler:\n",
      "- 29331\n",
      "- 25102\n",
      "- 28098\n",
      "- 25471\n",
      "- 31413\n",
      "- 2615\n",
      "\n",
      "5. cümleye benzer cümleler:\n",
      "- 49\n",
      "- 29638\n",
      "- 1006\n",
      "- 851\n",
      "- 32044\n",
      "- 28108\n",
      "\n"
     ]
    },
    {
     "name": "stderr",
     "output_type": "stream",
     "text": [
      "C:\\Users\\muham\\AppData\\Local\\Temp\\ipykernel_33564\\2112184786.py:15: DeprecationWarning: Call to deprecated `docvecs` (The `docvecs` property has been renamed `dv`.).\n",
      "  benzer_cümleler = model.docvecs.most_similar([cümle_vektoru], topn=n)\n"
     ]
    }
   ],
   "source": [
    "from gensim.models.doc2vec import Doc2Vec, TaggedDocument\n",
    "from nltk.tokenize import word_tokenize\n",
    "\n",
    "\n",
    "model = Doc2Vec.load(\"egitilmis_doc2vec_model\")\n",
    "\n",
    "\n",
    "#6 TANE CÜMLE OLUŞTURMAMIN SEBEBİ AYNI CÜMLEYİDE BENZER CÜMLE DİYE OLUŞTURMASIDIR\n",
    "\n",
    "\n",
    "def benzer_cumleleri_bul(model, cümle, n=6):\n",
    "    token_cümle = word_tokenize(cümle.lower())\n",
    "    cümle_vektoru = model.infer_vector(token_cümle)\n",
    "    \n",
    "    benzer_cümleler = model.docvecs.most_similar([cümle_vektoru], topn=n)\n",
    "    \n",
    "    return [benzerlik[0] for benzerlik in benzer_cümleler]\n",
    "\n",
    "\n",
    "örnek_cümleler = [\n",
    "    \"rüyaların bilimselliği söz konusu olmadan önce çeşitli varsayımlar rüyaların nedenlerine egemen olmuştur\",\n",
    "    \"rüyalar insanlığın başlangıcından itibaren ilgi çekici bir merak konusu olmuştur\",\n",
    "    \"rüya aleminin psikolojinin çalışmalarında yön belirleyici olması doğanın öğrenim döneminin başlarından itibaren kendini göstermiştir\",\n",
    "    \"rüyalarının bireyin çağrışımları göz ardı edilerek ham hali ele alınışı anlamsızdır\",\n",
    "    \"iki farklı rüya aynı tipik temayı sergiliyorken içeriğin anlatısı tamamen farklı olabilir\",\n",
    "]\n",
    "\n",
    "\n",
    "for idx, cümle in enumerate(örnek_cümleler, 1):\n",
    "    benzer_cümleler = benzer_cumleleri_bul(model, cümle)\n",
    "    print(f\"{idx}. cümleye benzer cümleler:\")\n",
    "    for benzer_cümle in benzer_cümleler:\n",
    "        print(\"-\", benzer_cümle)\n",
    "    print()\n"
   ]
  },
  {
   "cell_type": "code",
   "execution_count": null,
   "id": "fd373dd0",
   "metadata": {},
   "outputs": [],
   "source": []
  }
 ],
 "metadata": {
  "kernelspec": {
   "display_name": "Python 3 (ipykernel)",
   "language": "python",
   "name": "python3"
  },
  "language_info": {
   "codemirror_mode": {
    "name": "ipython",
    "version": 3
   },
   "file_extension": ".py",
   "mimetype": "text/x-python",
   "name": "python",
   "nbconvert_exporter": "python",
   "pygments_lexer": "ipython3",
   "version": "3.11.5"
  }
 },
 "nbformat": 4,
 "nbformat_minor": 5
}
